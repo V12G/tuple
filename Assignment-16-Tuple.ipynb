{
 "cells": [
  {
   "cell_type": "code",
   "execution_count": 1,
   "id": "56cd5164",
   "metadata": {},
   "outputs": [
    {
     "name": "stdout",
     "output_type": "stream",
     "text": [
      "('Java', 'Python', 'SQL', 'C') <class 'tuple'>\n"
     ]
    }
   ],
   "source": [
    "''' Write a python script to store multiple items in a single variable ( Items are “Java”\n",
    ",“Python”, “SQL”, “C” ) using tuple'''\n",
    "a=(\"Java\",\"Python\",\"SQL\",\"C\")\n",
    "print(a,type(a))"
   ]
  },
  {
   "cell_type": "code",
   "execution_count": 7,
   "id": "ff6aa01d",
   "metadata": {},
   "outputs": [
    {
     "name": "stdout",
     "output_type": "stream",
     "text": [
      "Enter any element:123\n",
      "(123,)\n"
     ]
    }
   ],
   "source": [
    "# Write a python program to store only one item using tuple.\n",
    "t=tuple([eval(e) for e in input(\"Enter any element:\").split(',')])\n",
    "print(t)"
   ]
  },
  {
   "cell_type": "code",
   "execution_count": 17,
   "id": "3efac33b",
   "metadata": {},
   "outputs": [
    {
     "data": {
      "text/plain": [
       "(30, 20, 10)"
      ]
     },
     "execution_count": 17,
     "metadata": {},
     "output_type": "execute_result"
    }
   ],
   "source": [
    "# Write a python program to reverse the tuple.\n",
    "t=10,20,30\n",
    "t[2::-1]"
   ]
  },
  {
   "cell_type": "code",
   "execution_count": 18,
   "id": "d5c5f920",
   "metadata": {},
   "outputs": [
    {
     "name": "stdout",
     "output_type": "stream",
     "text": [
      "(10, 20) (30, 40)\n"
     ]
    }
   ],
   "source": [
    "# Write a python program to Swap two tuples in Python.\n",
    "a=10,20\n",
    "b=30,40\n",
    "a,b=b,a\n",
    "print(b,a)"
   ]
  },
  {
   "cell_type": "code",
   "execution_count": 23,
   "id": "c2f91e3e",
   "metadata": {},
   "outputs": [
    {
     "data": {
      "text/plain": [
       "True"
      ]
     },
     "execution_count": 23,
     "metadata": {},
     "output_type": "execute_result"
    }
   ],
   "source": [
    "# Write a python program to check if all items in the tuple are the same.\n",
    "t1=10,20,30\n",
    "t2=10,20,30\n",
    "t1==t2"
   ]
  },
  {
   "cell_type": "code",
   "execution_count": 30,
   "id": "9b62da11",
   "metadata": {},
   "outputs": [
    {
     "name": "stdout",
     "output_type": "stream",
     "text": [
      "a is 100 b is 200 c is 300 d is 400 <class 'tuple'>\n"
     ]
    }
   ],
   "source": [
    "'''Write a python program to divide the tuple into four variables.\n",
    "tuple1=(100, 200, 300, 400)'''\n",
    "t1=100,200,300,400\n",
    "a,b,c,d=t1\n",
    "print(\"a is\",a,\"b is\",b,\"c is\",c,\"d is\",d,type(t1))"
   ]
  },
  {
   "cell_type": "code",
   "execution_count": 32,
   "id": "bb8c8643",
   "metadata": {},
   "outputs": [
    {
     "name": "stdout",
     "output_type": "stream",
     "text": [
      "(4, 5) <class 'tuple'>\n"
     ]
    }
   ],
   "source": [
    "'''Write a python program to copy elements 4 and 5 from the following tuple into a new\n",
    "tuple. tuple1=(1,2,3,4,5,6)'''\n",
    "t1=(1,2,3,4,5,6)\n",
    "a=t1\n",
    "a=t1[3:5:1]\n",
    "print(a,type(a))"
   ]
  },
  {
   "cell_type": "code",
   "execution_count": 42,
   "id": "e91421e8",
   "metadata": {},
   "outputs": [
    {
     "data": {
      "text/plain": [
       "[('c', 11), ('a', 21), ('d', 29), ('b', 37)]"
      ]
     },
     "execution_count": 42,
     "metadata": {},
     "output_type": "execute_result"
    }
   ],
   "source": [
    "'''Write a python program to Sort a tuple of tuples by the second item.\n",
    "tuple1 = (('a', 21),('b', 37),('c', 11), ('d',29))'''\n",
    "sorted([('a', 21),('b', 37),('c', 11), ('d',29)],key=lambda x:x[1])"
   ]
  },
  {
   "cell_type": "code",
   "execution_count": 44,
   "id": "7f140525",
   "metadata": {},
   "outputs": [
    {
     "name": "stdout",
     "output_type": "stream",
     "text": [
      "20\n"
     ]
    }
   ],
   "source": [
    "'''Write a python program to print the value 20 from given nested tuple\n",
    "tuple1 = (\"Python\", [10, 20, 30], (2, 4, 16))'''\n",
    "t=(\"Python\",[10,20,30],(2,4,6))\n",
    "a=t[1]\n",
    "print(a[1])"
   ]
  },
  {
   "cell_type": "code",
   "execution_count": 54,
   "id": "7d9e03bd",
   "metadata": {},
   "outputs": [
    {
     "name": "stdout",
     "output_type": "stream",
     "text": [
      "(11, [222, 33], 44, 55)\n"
     ]
    }
   ],
   "source": [
    "# Write a python program to change the first item (22) of a list within the following tuple to 222.\n",
    "t1 = (11, [22, 33], 44, 55)\n",
    "l=list(t1)\n",
    "l[1][0]=222\n",
    "l=tuple(l)\n",
    "print(l)\n"
   ]
  },
  {
   "cell_type": "code",
   "execution_count": null,
   "id": "7b45e427",
   "metadata": {},
   "outputs": [],
   "source": []
  }
 ],
 "metadata": {
  "kernelspec": {
   "display_name": "Python 3 (ipykernel)",
   "language": "python",
   "name": "python3"
  },
  "language_info": {
   "codemirror_mode": {
    "name": "ipython",
    "version": 3
   },
   "file_extension": ".py",
   "mimetype": "text/x-python",
   "name": "python",
   "nbconvert_exporter": "python",
   "pygments_lexer": "ipython3",
   "version": "3.9.7"
  }
 },
 "nbformat": 4,
 "nbformat_minor": 5
}
